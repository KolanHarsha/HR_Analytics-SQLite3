{
 "cells": [
  {
   "cell_type": "markdown",
   "id": "b097e738",
   "metadata": {},
   "source": [
    "## Capstone 1 - Part 2\n",
    "\n",
    "In the first part of the capstone, we focused on Data Retrieval, Data Preprocessing, Feature Engineering and Exploratory Data Analysis using Python & its libraries. Now we are going to shift gears and gain insights into our HR Analytics dataset using SQL.\n",
    "\n",
    "## TODO: Make use of SQL to do the following:\n",
    "\n",
    "### Create a SQLITE3 DB using the CSV file (2 pts). Please refer this [link](https://www.linkedin.com/pulse/accessing-sqlite3-database-from-jupyter-notebook-using-varun-lobo/) and this [link](https://www.geeksforgeeks.org/how-to-import-csv-file-in-sqlite-database-using-python/) to know more.\n",
    "\n",
    "### Calculate the Attrition Rate and summarize attrition (3 pts) by:\n",
    "- Gender\n",
    "- Department\n",
    "- Age\n",
    "- Average monthly income by job level\n",
    "- Years at company\n",
    "\n",
    "### Continue using SQL to explore main reasons for attrition (3 pts), For example:\n",
    "- Why do more people over 50 years old leave the company than people who aged 40-50?\n",
    "- Why do people with higher pay still leave the company?\n",
    "- Which factors drive employees who work at company less than 5 years to leave?\n",
    "\n",
    "### Effective Communication (2 pts)\n",
    "- Please make use of markdown cells to communicate your thought process, why did you think of performing a step? what was the observation from the query? etc.\n",
    "- The code should be commented so that it is readable for the reviewer.\n",
    "\n",
    "### Grading and Important Instructions\n",
    "- Each of the above steps are mandatory and should be completed in good faith\n",
    "- Make sure before submitting that the code is in fully working condition\n",
    "- It is fine to make use of ChatGPT, stackoverflow type resources, just provide the reference links from where you got it\n",
    "- Debugging is an art, if you find yourself stuck with errors, take help of stackoverflow and ChatGPT to resolve the issue and if it's still unresolved, reach out to me for help.\n",
    "- You need to score atleast 7/10 to pass the project, anything less than that will be marked required, needing resubmission.\n",
    "- Feedback will be provided on 3 levels (Awesome, Suggestion, & Required). Required changes are mandatory to be made.\n",
    "- For submission, please upload the project on github and share the link to the file with us through LMS."
   ]
  },
  {
   "cell_type": "markdown",
   "id": "7d08c03a-77e7-48e3-95a6-f5956ddbb377",
   "metadata": {},
   "source": [
    "#### Import Libraries"
   ]
  },
  {
   "cell_type": "code",
   "execution_count": 1,
   "id": "44df34f5-336e-4e20-ad09-d32b64fb6176",
   "metadata": {},
   "outputs": [],
   "source": [
    "import sqlite3\n",
    "import pandas as pd"
   ]
  },
  {
   "cell_type": "code",
   "execution_count": 2,
   "id": "7938d9f4-50dd-45c7-9e80-7160ba20fa73",
   "metadata": {},
   "outputs": [],
   "source": [
    "# Create a dataframe\n",
    "df=pd.read_csv(r\"C:\\Users\\Harsha\\Desktop\\Elevate Me\\HR-Analytics.csv\")"
   ]
  },
  {
   "cell_type": "markdown",
   "id": "e6ef0313-c9b0-4479-98fc-bc26146a0da1",
   "metadata": {},
   "source": [
    "#### Creating a database locally using SQLite3"
   ]
  },
  {
   "cell_type": "code",
   "execution_count": 3,
   "id": "553e5bdf-a183-463a-933f-dfdff3ff46bf",
   "metadata": {},
   "outputs": [],
   "source": [
    "conn=sqlite3.connect('HR.db')"
   ]
  },
  {
   "cell_type": "markdown",
   "id": "d5b30d40-f953-4f6b-8052-e671e810ff1d",
   "metadata": {},
   "source": [
    "#### Create an Employee Table to store the data-frame as a table in the HR-Database"
   ]
  },
  {
   "cell_type": "code",
   "execution_count": 4,
   "id": "d0538e49-5d06-4e30-91f5-a7ba4599da9a",
   "metadata": {},
   "outputs": [],
   "source": [
    "df.to_sql(name=\"employee\",con=conn,if_exists='replace',index=False)\n",
    "conn.commit()"
   ]
  },
  {
   "cell_type": "markdown",
   "id": "4bd68ff0-1cca-4a24-9ebd-e93b9b6eece6",
   "metadata": {},
   "source": [
    "#### Print the first 5 rows to check if connection is established successfully"
   ]
  },
  {
   "cell_type": "code",
   "execution_count": 5,
   "id": "004b1082-bc20-4313-ad01-a77e79f8726a",
   "metadata": {},
   "outputs": [],
   "source": [
    "query=\"select * from employee LIMIT 5\"\n",
    "result=pd.read_sql_query(query,conn)"
   ]
  },
  {
   "cell_type": "code",
   "execution_count": 6,
   "id": "8db2b089-33fc-4b44-9fb5-4bb33c4754a1",
   "metadata": {},
   "outputs": [
    {
     "name": "stdout",
     "output_type": "stream",
     "text": [
      "   Age Attrition     BusinessTravel  DailyRate              Department  \\\n",
      "0   41       Yes      Travel_Rarely       1102                   Sales   \n",
      "1   49        No  Travel_Frequently        279  Research & Development   \n",
      "2   37       Yes      Travel_Rarely       1373  Research & Development   \n",
      "3   33        No  Travel_Frequently       1392  Research & Development   \n",
      "4   27        No      Travel_Rarely        591  Research & Development   \n",
      "\n",
      "   DistanceFromHome  Education EducationField  EmployeeCount  EmployeeNumber  \\\n",
      "0                 1          2  Life Sciences              1               1   \n",
      "1                 8          1  Life Sciences              1               2   \n",
      "2                 2          2          Other              1               4   \n",
      "3                 3          4  Life Sciences              1               5   \n",
      "4                 2          1        Medical              1               7   \n",
      "\n",
      "   ...  RelationshipSatisfaction StandardHours  StockOptionLevel  \\\n",
      "0  ...                         1            80                 0   \n",
      "1  ...                         4            80                 1   \n",
      "2  ...                         2            80                 0   \n",
      "3  ...                         3            80                 0   \n",
      "4  ...                         4            80                 1   \n",
      "\n",
      "   TotalWorkingYears  TrainingTimesLastYear WorkLifeBalance  YearsAtCompany  \\\n",
      "0                  8                      0               1               6   \n",
      "1                 10                      3               3              10   \n",
      "2                  7                      3               3               0   \n",
      "3                  8                      3               3               8   \n",
      "4                  6                      3               3               2   \n",
      "\n",
      "  YearsInCurrentRole  YearsSinceLastPromotion  YearsWithCurrManager  \n",
      "0                  4                        0                     5  \n",
      "1                  7                        1                     7  \n",
      "2                  0                        0                     0  \n",
      "3                  7                        3                     0  \n",
      "4                  2                        2                     2  \n",
      "\n",
      "[5 rows x 35 columns]\n"
     ]
    }
   ],
   "source": [
    "print(result)"
   ]
  },
  {
   "cell_type": "markdown",
   "id": "179020d0",
   "metadata": {},
   "source": [
    "#### Calculate Attrition Rate\n"
   ]
  },
  {
   "cell_type": "code",
   "execution_count": 7,
   "id": "9e6465d9",
   "metadata": {},
   "outputs": [],
   "source": [
    "query='''Select Attrition,\n",
    "       concat(round(count(*)* 100.0/(Select count(*)*1.0 as Total FROM employee),1),'%') as Attrition_rate \n",
    "       FROM employee \n",
    "       GROUP BY Attrition'''\n"
   ]
  },
  {
   "cell_type": "markdown",
   "id": "bc5e24f3-b3b0-4b08-ba95-8e18a40538f4",
   "metadata": {},
   "source": [
    "#### It counts the occurrences of each Attrition value and divides it by the total number of employees in the table (calculated by a subquery).\n",
    "#### The result is multiplied by 100 to convert it to a percentage, and rounded to one decimal place.\n",
    "#### The CONCAT function appends the \"%\" symbol to the calculated rate, and the final result is displayed as Attrition_rate."
   ]
  },
  {
   "cell_type": "code",
   "execution_count": 8,
   "id": "0f786b40-4207-4dfa-ad9a-c90eab2b3721",
   "metadata": {},
   "outputs": [
    {
     "data": {
      "text/html": [
       "<div>\n",
       "<style scoped>\n",
       "    .dataframe tbody tr th:only-of-type {\n",
       "        vertical-align: middle;\n",
       "    }\n",
       "\n",
       "    .dataframe tbody tr th {\n",
       "        vertical-align: top;\n",
       "    }\n",
       "\n",
       "    .dataframe thead th {\n",
       "        text-align: right;\n",
       "    }\n",
       "</style>\n",
       "<table border=\"1\" class=\"dataframe\">\n",
       "  <thead>\n",
       "    <tr style=\"text-align: right;\">\n",
       "      <th></th>\n",
       "      <th>Attrition</th>\n",
       "      <th>Attrition_rate</th>\n",
       "    </tr>\n",
       "  </thead>\n",
       "  <tbody>\n",
       "    <tr>\n",
       "      <th>0</th>\n",
       "      <td>No</td>\n",
       "      <td>83.9%</td>\n",
       "    </tr>\n",
       "    <tr>\n",
       "      <th>1</th>\n",
       "      <td>Yes</td>\n",
       "      <td>16.1%</td>\n",
       "    </tr>\n",
       "  </tbody>\n",
       "</table>\n",
       "</div>"
      ],
      "text/plain": [
       "  Attrition Attrition_rate\n",
       "0        No          83.9%\n",
       "1       Yes          16.1%"
      ]
     },
     "execution_count": 8,
     "metadata": {},
     "output_type": "execute_result"
    }
   ],
   "source": [
    "result=pd.read_sql_query(query,conn)\n",
    "result"
   ]
  },
  {
   "cell_type": "markdown",
   "id": "4c3aee42-d5ae-4a73-8c09-1cfce9a6b31c",
   "metadata": {},
   "source": [
    "#### This indicates that 83.9% of employees did not leave the company (Attrition = \"No\"), while 16.1% of employees left the company (Attrition = \"Yes\")."
   ]
  },
  {
   "cell_type": "markdown",
   "id": "41bab6fc",
   "metadata": {},
   "source": [
    "#### Sample Output\n",
    "\n",
    "![image](https://api-v4.skyprepapp.com/public_api/da/857886?view_key=eyJvYmplY3RfdHlwZSI6ImFydGljbGUiLCJvYmplY3RfaWQiOjg1Nzg4NiwiaG1hYyI6ImUyNGU0YWRhNWQwMDkxNWE2NWNiY2EwNGFlNDNiMTBlYmYyNWY0YzAiLCJleHBpcmVzX2F0Ijo0ODkxMzgxMTk5LCJvdHRfdG9rZW4iOm51bGx9)"
   ]
  },
  {
   "cell_type": "markdown",
   "id": "723146e8",
   "metadata": {},
   "source": [
    "#### Find Attrition by Gender"
   ]
  },
  {
   "cell_type": "code",
   "execution_count": 9,
   "id": "91cf1ab8",
   "metadata": {},
   "outputs": [],
   "source": [
    "query='''SELECT \n",
    "        e.Attrition,\n",
    "        e.Gender,\n",
    "        COUNT(*) AS Count_gender,\n",
    "        ROUND(COUNT(*) * 100.0 / t.Total_gender, 1) AS Attrition_by_gender\n",
    "        FROM \n",
    "        employee e\n",
    "        JOIN \n",
    "        (SELECT Gender, COUNT(*) AS Total_gender FROM employee GROUP BY Gender) t\n",
    "        ON e.Gender = t.Gender\n",
    "        GROUP BY \n",
    "        e.Attrition, e.Gender;\n",
    "'''"
   ]
  },
  {
   "cell_type": "markdown",
   "id": "17644f00-caa7-427b-881d-5a6f65e7d655",
   "metadata": {},
   "source": [
    "#### The subquery (SELECT Gender, COUNT(*) AS Total_gender FROM employee GROUP BY Gender) calculates the total number of employees for each gender.\n",
    "#### The main query joins the employee table with this subquery on the Gender column to get the total count per gender for each Attrition status.\n",
    "#### The COUNT(*) * 100.0 / t.Total_gender computes the attrition rate as a percentage, and the result is grouped by both Attrition and Gender."
   ]
  },
  {
   "cell_type": "code",
   "execution_count": 10,
   "id": "781508f7-b74e-47f3-b92b-21e36bd51268",
   "metadata": {},
   "outputs": [
    {
     "data": {
      "text/html": [
       "<div>\n",
       "<style scoped>\n",
       "    .dataframe tbody tr th:only-of-type {\n",
       "        vertical-align: middle;\n",
       "    }\n",
       "\n",
       "    .dataframe tbody tr th {\n",
       "        vertical-align: top;\n",
       "    }\n",
       "\n",
       "    .dataframe thead th {\n",
       "        text-align: right;\n",
       "    }\n",
       "</style>\n",
       "<table border=\"1\" class=\"dataframe\">\n",
       "  <thead>\n",
       "    <tr style=\"text-align: right;\">\n",
       "      <th></th>\n",
       "      <th>Attrition</th>\n",
       "      <th>Gender</th>\n",
       "      <th>Count_gender</th>\n",
       "      <th>Attrition_by_gender</th>\n",
       "    </tr>\n",
       "  </thead>\n",
       "  <tbody>\n",
       "    <tr>\n",
       "      <th>0</th>\n",
       "      <td>No</td>\n",
       "      <td>Female</td>\n",
       "      <td>501</td>\n",
       "      <td>85.2</td>\n",
       "    </tr>\n",
       "    <tr>\n",
       "      <th>1</th>\n",
       "      <td>No</td>\n",
       "      <td>Male</td>\n",
       "      <td>732</td>\n",
       "      <td>83.0</td>\n",
       "    </tr>\n",
       "    <tr>\n",
       "      <th>2</th>\n",
       "      <td>Yes</td>\n",
       "      <td>Female</td>\n",
       "      <td>87</td>\n",
       "      <td>14.8</td>\n",
       "    </tr>\n",
       "    <tr>\n",
       "      <th>3</th>\n",
       "      <td>Yes</td>\n",
       "      <td>Male</td>\n",
       "      <td>150</td>\n",
       "      <td>17.0</td>\n",
       "    </tr>\n",
       "  </tbody>\n",
       "</table>\n",
       "</div>"
      ],
      "text/plain": [
       "  Attrition  Gender  Count_gender  Attrition_by_gender\n",
       "0        No  Female           501                 85.2\n",
       "1        No    Male           732                 83.0\n",
       "2       Yes  Female            87                 14.8\n",
       "3       Yes    Male           150                 17.0"
      ]
     },
     "execution_count": 10,
     "metadata": {},
     "output_type": "execute_result"
    }
   ],
   "source": [
    "result=pd.read_sql_query(query,conn)\n",
    "result"
   ]
  },
  {
   "cell_type": "markdown",
   "id": "466f726b-d00a-4c18-affa-305de81bb686",
   "metadata": {},
   "source": [
    "#### This table shows the distribution of employees by gender and attrition status. It indicates that 85.2% of female employees and 83.0% of male employees stayed with the company, while 14.8% of female employees and 17.0% of male employees left (attrition)."
   ]
  },
  {
   "cell_type": "markdown",
   "id": "8da31e8b",
   "metadata": {},
   "source": [
    "#### Sample output\n",
    "\n",
    "![image](https://api-v4.skyprepapp.com/public_api/da/857882?view_key=eyJvYmplY3RfdHlwZSI6ImFydGljbGUiLCJvYmplY3RfaWQiOjg1Nzg4MiwiaG1hYyI6IjM1NDU5N2E4MjZmMTMxNWFhMTA4NzFiYTFkZjQ5YjBhNTYyOWYwMzgiLCJleHBpcmVzX2F0Ijo0ODkxMzgxMTk5LCJvdHRfdG9rZW4iOm51bGx9)"
   ]
  },
  {
   "cell_type": "markdown",
   "id": "40708d2a",
   "metadata": {},
   "source": [
    "#### Find Attrition by Dept"
   ]
  },
  {
   "cell_type": "code",
   "execution_count": 11,
   "id": "58b8581b",
   "metadata": {},
   "outputs": [],
   "source": [
    "query='''SELECT \n",
    "        Department,Attrition,\n",
    "        count(*) AS Department_attrition\n",
    "        FROM\n",
    "        employee\n",
    "        GROUP BY\n",
    "        Department, Attrition\n",
    "'''"
   ]
  },
  {
   "cell_type": "markdown",
   "id": "60122105-cad4-4882-b83c-c5baa618ac6c",
   "metadata": {},
   "source": [
    "#### This query groups the data by both Department and Attrition to count the number of employees in each combination of department and attrition status. It calculates the number of employees in each department who either left (Attrition = 'Yes') or stayed (Attrition = 'No'), and labels this count as Department_attrition."
   ]
  },
  {
   "cell_type": "code",
   "execution_count": 12,
   "id": "a624e0f8-a899-4682-b873-8bdaed8d2f38",
   "metadata": {},
   "outputs": [
    {
     "data": {
      "text/html": [
       "<div>\n",
       "<style scoped>\n",
       "    .dataframe tbody tr th:only-of-type {\n",
       "        vertical-align: middle;\n",
       "    }\n",
       "\n",
       "    .dataframe tbody tr th {\n",
       "        vertical-align: top;\n",
       "    }\n",
       "\n",
       "    .dataframe thead th {\n",
       "        text-align: right;\n",
       "    }\n",
       "</style>\n",
       "<table border=\"1\" class=\"dataframe\">\n",
       "  <thead>\n",
       "    <tr style=\"text-align: right;\">\n",
       "      <th></th>\n",
       "      <th>Department</th>\n",
       "      <th>Attrition</th>\n",
       "      <th>Department_attrition</th>\n",
       "    </tr>\n",
       "  </thead>\n",
       "  <tbody>\n",
       "    <tr>\n",
       "      <th>0</th>\n",
       "      <td>Human Resources</td>\n",
       "      <td>No</td>\n",
       "      <td>51</td>\n",
       "    </tr>\n",
       "    <tr>\n",
       "      <th>1</th>\n",
       "      <td>Human Resources</td>\n",
       "      <td>Yes</td>\n",
       "      <td>12</td>\n",
       "    </tr>\n",
       "    <tr>\n",
       "      <th>2</th>\n",
       "      <td>Research &amp; Development</td>\n",
       "      <td>No</td>\n",
       "      <td>828</td>\n",
       "    </tr>\n",
       "    <tr>\n",
       "      <th>3</th>\n",
       "      <td>Research &amp; Development</td>\n",
       "      <td>Yes</td>\n",
       "      <td>133</td>\n",
       "    </tr>\n",
       "    <tr>\n",
       "      <th>4</th>\n",
       "      <td>Sales</td>\n",
       "      <td>No</td>\n",
       "      <td>354</td>\n",
       "    </tr>\n",
       "    <tr>\n",
       "      <th>5</th>\n",
       "      <td>Sales</td>\n",
       "      <td>Yes</td>\n",
       "      <td>92</td>\n",
       "    </tr>\n",
       "  </tbody>\n",
       "</table>\n",
       "</div>"
      ],
      "text/plain": [
       "               Department Attrition  Department_attrition\n",
       "0         Human Resources        No                    51\n",
       "1         Human Resources       Yes                    12\n",
       "2  Research & Development        No                   828\n",
       "3  Research & Development       Yes                   133\n",
       "4                   Sales        No                   354\n",
       "5                   Sales       Yes                    92"
      ]
     },
     "execution_count": 12,
     "metadata": {},
     "output_type": "execute_result"
    }
   ],
   "source": [
    "result=pd.read_sql_query(query,conn)\n",
    "result"
   ]
  },
  {
   "cell_type": "markdown",
   "id": "3b6d014a-996c-4957-a58d-d3c00d05ba5e",
   "metadata": {},
   "source": [
    "#### Human Resources has the highest attrition rate (12 out of 63 employees) i.e 19%, while Research & Development has the lowest attrition rate, with 133 employees leaving out of 961 i.e 13.8%"
   ]
  },
  {
   "cell_type": "markdown",
   "id": "e23bee46",
   "metadata": {},
   "source": [
    "#### Sample Output\n",
    "\n",
    "<img src=\"https://api-v4.skyprepapp.com/public_api/da/857884?view_key=eyJvYmplY3RfdHlwZSI6ImFydGljbGUiLCJvYmplY3RfaWQiOjg1Nzg4NCwiaG1hYyI6IjdmOTA4NzJjODZmYTgxOGUyMzkyYTBlZjhjYjljNjA4ZGM3NjkzMWYiLCJleHBpcmVzX2F0Ijo0ODkxMzgxMTk5LCJvdHRfdG9rZW4iOm51bGx9\" width=\"450\" height=\"450\">"
   ]
  },
  {
   "cell_type": "markdown",
   "id": "a2cef9d3",
   "metadata": {},
   "source": [
    "#### Find Attrition by Age Groups"
   ]
  },
  {
   "cell_type": "code",
   "execution_count": 13,
   "id": "088d0ac6",
   "metadata": {},
   "outputs": [],
   "source": [
    "query= '''WITH CTE1 AS (SELECT \n",
    "    Attrition, \n",
    "    (CASE \n",
    "        WHEN Age < 30 THEN 'Under 30'\n",
    "        WHEN Age BETWEEN 30 AND 39 THEN '30-40'\n",
    "        WHEN Age BETWEEN 40 AND 49 THEN '40-50'\n",
    "        ELSE 'Over 50'\n",
    "    END) AS Age_Group,\n",
    "    COUNT(*) AS num\n",
    "FROM \n",
    "    employee\n",
    "GROUP BY \n",
    "    Attrition, Age_Group),\n",
    "\n",
    "    \n",
    "    CTE2 AS (select Age_Group, sum(num) AS Total FROM CTE1 GROUP BY Age_Group)\n",
    "\n",
    "    \n",
    "    Select c1.Attrition,c1.Age_Group,c1.num,round((c1.num*100.0)/c2.Total,2) AS percent_by_age from CTE1 AS c1\n",
    "    INNER JOIN\n",
    "    CTE2 AS c2\n",
    "    ON c1.Age_Group=c2.Age_Group\n",
    "'''"
   ]
  },
  {
   "cell_type": "markdown",
   "id": "db4f2c5c-e6df-4597-81f3-edf873f858c8",
   "metadata": {},
   "source": [
    "#### CTE1 groups the employees by Attrition and age ranges, counting the number of employees in each group, creating a new column Age_Group based on the Age field.\n",
    "#### CTE2 calculates the total number of employees for each Age_Group across all attrition categories.\n",
    "#### The final query joins CTE1 and CTE2, calculating the percentage of employees in each Age_Group for each Attrition status by dividing the count in CTE1 by the total in CTE2 and multiplying by 100."
   ]
  },
  {
   "cell_type": "code",
   "execution_count": 14,
   "id": "e7ce96fa-1f11-496c-bc9a-9cf8c84f1681",
   "metadata": {},
   "outputs": [
    {
     "data": {
      "text/html": [
       "<div>\n",
       "<style scoped>\n",
       "    .dataframe tbody tr th:only-of-type {\n",
       "        vertical-align: middle;\n",
       "    }\n",
       "\n",
       "    .dataframe tbody tr th {\n",
       "        vertical-align: top;\n",
       "    }\n",
       "\n",
       "    .dataframe thead th {\n",
       "        text-align: right;\n",
       "    }\n",
       "</style>\n",
       "<table border=\"1\" class=\"dataframe\">\n",
       "  <thead>\n",
       "    <tr style=\"text-align: right;\">\n",
       "      <th></th>\n",
       "      <th>Attrition</th>\n",
       "      <th>Age_Group</th>\n",
       "      <th>num</th>\n",
       "      <th>percent_by_age</th>\n",
       "    </tr>\n",
       "  </thead>\n",
       "  <tbody>\n",
       "    <tr>\n",
       "      <th>0</th>\n",
       "      <td>No</td>\n",
       "      <td>30-40</td>\n",
       "      <td>533</td>\n",
       "      <td>85.69</td>\n",
       "    </tr>\n",
       "    <tr>\n",
       "      <th>1</th>\n",
       "      <td>No</td>\n",
       "      <td>40-50</td>\n",
       "      <td>315</td>\n",
       "      <td>90.26</td>\n",
       "    </tr>\n",
       "    <tr>\n",
       "      <th>2</th>\n",
       "      <td>No</td>\n",
       "      <td>Over 50</td>\n",
       "      <td>150</td>\n",
       "      <td>86.71</td>\n",
       "    </tr>\n",
       "    <tr>\n",
       "      <th>3</th>\n",
       "      <td>No</td>\n",
       "      <td>Under 30</td>\n",
       "      <td>235</td>\n",
       "      <td>72.09</td>\n",
       "    </tr>\n",
       "    <tr>\n",
       "      <th>4</th>\n",
       "      <td>Yes</td>\n",
       "      <td>30-40</td>\n",
       "      <td>89</td>\n",
       "      <td>14.31</td>\n",
       "    </tr>\n",
       "    <tr>\n",
       "      <th>5</th>\n",
       "      <td>Yes</td>\n",
       "      <td>40-50</td>\n",
       "      <td>34</td>\n",
       "      <td>9.74</td>\n",
       "    </tr>\n",
       "    <tr>\n",
       "      <th>6</th>\n",
       "      <td>Yes</td>\n",
       "      <td>Over 50</td>\n",
       "      <td>23</td>\n",
       "      <td>13.29</td>\n",
       "    </tr>\n",
       "    <tr>\n",
       "      <th>7</th>\n",
       "      <td>Yes</td>\n",
       "      <td>Under 30</td>\n",
       "      <td>91</td>\n",
       "      <td>27.91</td>\n",
       "    </tr>\n",
       "  </tbody>\n",
       "</table>\n",
       "</div>"
      ],
      "text/plain": [
       "  Attrition Age_Group  num  percent_by_age\n",
       "0        No     30-40  533           85.69\n",
       "1        No     40-50  315           90.26\n",
       "2        No   Over 50  150           86.71\n",
       "3        No  Under 30  235           72.09\n",
       "4       Yes     30-40   89           14.31\n",
       "5       Yes     40-50   34            9.74\n",
       "6       Yes   Over 50   23           13.29\n",
       "7       Yes  Under 30   91           27.91"
      ]
     },
     "execution_count": 14,
     "metadata": {},
     "output_type": "execute_result"
    }
   ],
   "source": [
    "result=pd.read_sql_query(query,conn)\n",
    "result"
   ]
  },
  {
   "cell_type": "markdown",
   "id": "0dc1d56b-b207-4ca0-b5af-56bf72f06805",
   "metadata": {},
   "source": [
    "#### The data indicates that younger employees (Under 30) have a higher attrition rate (27.91%), while older employees (40-50 and Over 50) tend to stay longer, with lower attrition rates (9.74% and 13.29%, respectively)."
   ]
  },
  {
   "cell_type": "markdown",
   "id": "7eb8bfc8",
   "metadata": {},
   "source": [
    "#### Sample Output\n",
    "\n",
    "![image](https://api-v4.skyprepapp.com/public_api/da/857885?view_key=eyJvYmplY3RfdHlwZSI6ImFydGljbGUiLCJvYmplY3RfaWQiOjg1Nzg4NSwiaG1hYyI6IjcwNGVlOWIwYzg1MmMwNmNhODg0NmYyZDFlNWE3OTU1MTFhMGVmYWYiLCJleHBpcmVzX2F0Ijo0ODkxMzgxMTk5LCJvdHRfdG9rZW4iOm51bGx9)"
   ]
  },
  {
   "cell_type": "markdown",
   "id": "67dbffff",
   "metadata": {},
   "source": [
    "#### Find Attrition by Monthly Income"
   ]
  },
  {
   "cell_type": "code",
   "execution_count": 15,
   "id": "9f954d18",
   "metadata": {},
   "outputs": [],
   "source": [
    "query='''WITH CTE AS (SELECT \n",
    "        Department,JobLevel,\n",
    "        round(Avg(MonthlyIncome),1) AS avg_income,\n",
    "        round(Avg(CASE WHEN Attrition=\"Yes\" THEN MonthlyIncome\n",
    "                        ELSE Null\n",
    "                   END),1) AS attrition_avg_income\n",
    "        FROM\n",
    "        employee\n",
    "        GROUP BY\n",
    "        Department, JobLevel\n",
    "        Having attrition_avg_income is not null)\n",
    "\n",
    "        select *, (attrition_avg_income-avg_income) AS difference from CTE\n",
    "'''"
   ]
  },
  {
   "cell_type": "markdown",
   "id": "ec7f75d2-5b50-4f1a-9b41-2108ffaf2580",
   "metadata": {},
   "source": [
    "#### The CTE calculates the average monthly income for each Department and JobLevel, and the average monthly income for employees with Attrition = \"Yes\"\n",
    "#### The final SELECT retrieves the results from the CTE and calculates the difference between the average income for all employees and those with attrition."
   ]
  },
  {
   "cell_type": "code",
   "execution_count": 16,
   "id": "3ac88c45-597e-48ad-af07-cd164922e296",
   "metadata": {},
   "outputs": [
    {
     "data": {
      "text/html": [
       "<div>\n",
       "<style scoped>\n",
       "    .dataframe tbody tr th:only-of-type {\n",
       "        vertical-align: middle;\n",
       "    }\n",
       "\n",
       "    .dataframe tbody tr th {\n",
       "        vertical-align: top;\n",
       "    }\n",
       "\n",
       "    .dataframe thead th {\n",
       "        text-align: right;\n",
       "    }\n",
       "</style>\n",
       "<table border=\"1\" class=\"dataframe\">\n",
       "  <thead>\n",
       "    <tr style=\"text-align: right;\">\n",
       "      <th></th>\n",
       "      <th>Department</th>\n",
       "      <th>JobLevel</th>\n",
       "      <th>avg_income</th>\n",
       "      <th>attrition_avg_income</th>\n",
       "      <th>difference</th>\n",
       "    </tr>\n",
       "  </thead>\n",
       "  <tbody>\n",
       "    <tr>\n",
       "      <th>0</th>\n",
       "      <td>Human Resources</td>\n",
       "      <td>1</td>\n",
       "      <td>2733.2</td>\n",
       "      <td>2415.7</td>\n",
       "      <td>-317.5</td>\n",
       "    </tr>\n",
       "    <tr>\n",
       "      <th>1</th>\n",
       "      <td>Human Resources</td>\n",
       "      <td>3</td>\n",
       "      <td>9623.0</td>\n",
       "      <td>10216.0</td>\n",
       "      <td>593.0</td>\n",
       "    </tr>\n",
       "    <tr>\n",
       "      <th>2</th>\n",
       "      <td>Research &amp; Development</td>\n",
       "      <td>1</td>\n",
       "      <td>2840.1</td>\n",
       "      <td>2687.4</td>\n",
       "      <td>-152.7</td>\n",
       "    </tr>\n",
       "    <tr>\n",
       "      <th>3</th>\n",
       "      <td>Research &amp; Development</td>\n",
       "      <td>2</td>\n",
       "      <td>5291.2</td>\n",
       "      <td>5372.0</td>\n",
       "      <td>80.8</td>\n",
       "    </tr>\n",
       "    <tr>\n",
       "      <th>4</th>\n",
       "      <td>Research &amp; Development</td>\n",
       "      <td>3</td>\n",
       "      <td>10170.5</td>\n",
       "      <td>9503.8</td>\n",
       "      <td>-666.7</td>\n",
       "    </tr>\n",
       "    <tr>\n",
       "      <th>5</th>\n",
       "      <td>Research &amp; Development</td>\n",
       "      <td>4</td>\n",
       "      <td>15634.7</td>\n",
       "      <td>12169.0</td>\n",
       "      <td>-3465.7</td>\n",
       "    </tr>\n",
       "    <tr>\n",
       "      <th>6</th>\n",
       "      <td>Research &amp; Development</td>\n",
       "      <td>5</td>\n",
       "      <td>19218.5</td>\n",
       "      <td>19550.0</td>\n",
       "      <td>331.5</td>\n",
       "    </tr>\n",
       "    <tr>\n",
       "      <th>7</th>\n",
       "      <td>Sales</td>\n",
       "      <td>1</td>\n",
       "      <td>2506.7</td>\n",
       "      <td>2373.4</td>\n",
       "      <td>-133.3</td>\n",
       "    </tr>\n",
       "    <tr>\n",
       "      <th>8</th>\n",
       "      <td>Sales</td>\n",
       "      <td>2</td>\n",
       "      <td>5746.1</td>\n",
       "      <td>5917.0</td>\n",
       "      <td>170.9</td>\n",
       "    </tr>\n",
       "    <tr>\n",
       "      <th>9</th>\n",
       "      <td>Sales</td>\n",
       "      <td>3</td>\n",
       "      <td>9282.3</td>\n",
       "      <td>9202.8</td>\n",
       "      <td>-79.5</td>\n",
       "    </tr>\n",
       "    <tr>\n",
       "      <th>10</th>\n",
       "      <td>Sales</td>\n",
       "      <td>4</td>\n",
       "      <td>15166.3</td>\n",
       "      <td>13395.8</td>\n",
       "      <td>-1770.5</td>\n",
       "    </tr>\n",
       "    <tr>\n",
       "      <th>11</th>\n",
       "      <td>Sales</td>\n",
       "      <td>5</td>\n",
       "      <td>19088.0</td>\n",
       "      <td>19334.5</td>\n",
       "      <td>246.5</td>\n",
       "    </tr>\n",
       "  </tbody>\n",
       "</table>\n",
       "</div>"
      ],
      "text/plain": [
       "                Department  JobLevel  avg_income  attrition_avg_income  \\\n",
       "0          Human Resources         1      2733.2                2415.7   \n",
       "1          Human Resources         3      9623.0               10216.0   \n",
       "2   Research & Development         1      2840.1                2687.4   \n",
       "3   Research & Development         2      5291.2                5372.0   \n",
       "4   Research & Development         3     10170.5                9503.8   \n",
       "5   Research & Development         4     15634.7               12169.0   \n",
       "6   Research & Development         5     19218.5               19550.0   \n",
       "7                    Sales         1      2506.7                2373.4   \n",
       "8                    Sales         2      5746.1                5917.0   \n",
       "9                    Sales         3      9282.3                9202.8   \n",
       "10                   Sales         4     15166.3               13395.8   \n",
       "11                   Sales         5     19088.0               19334.5   \n",
       "\n",
       "    difference  \n",
       "0       -317.5  \n",
       "1        593.0  \n",
       "2       -152.7  \n",
       "3         80.8  \n",
       "4       -666.7  \n",
       "5      -3465.7  \n",
       "6        331.5  \n",
       "7       -133.3  \n",
       "8        170.9  \n",
       "9        -79.5  \n",
       "10     -1770.5  \n",
       "11       246.5  "
      ]
     },
     "execution_count": 16,
     "metadata": {},
     "output_type": "execute_result"
    }
   ],
   "source": [
    "result=pd.read_sql_query(query,conn)\n",
    "result"
   ]
  },
  {
   "cell_type": "markdown",
   "id": "dea886d8-da7d-45b1-bf1c-333f6b5057cb",
   "metadata": {},
   "source": [
    "#### The data shows that employees with attrition (\"Yes\") tend to have lower average monthly incomes in most departments and job levels, as evidenced by negative differences in many rows including high job level employees like like Research & Development (Job Level 4) and Sales (Job Level 4).\n",
    "#### Some extreme high job levels, like Research & Development (Job Level 5) and Sales (Job Level 5), exhibit a positive difference, suggesting that most high-level positions are retained."
   ]
  },
  {
   "cell_type": "markdown",
   "id": "124f8cee",
   "metadata": {},
   "source": [
    "#### Sample Output\n",
    "\n",
    "![image](https://api-v4.skyprepapp.com/public_api/da/857883?view_key=eyJvYmplY3RfdHlwZSI6ImFydGljbGUiLCJvYmplY3RfaWQiOjg1Nzg4MywiaG1hYyI6Ijg3NTU4ZDU1ZjRjN2U1YWI3ODQzYjM1NzFkNjBjMjEwNGY5NWI5ODUiLCJleHBpcmVzX2F0Ijo0ODkxMzgxMTk5LCJvdHRfdG9rZW4iOm51bGx9)"
   ]
  },
  {
   "cell_type": "markdown",
   "id": "018c4ff6",
   "metadata": {},
   "source": [
    "#### Find Attrition by Years At Company"
   ]
  },
  {
   "cell_type": "code",
   "execution_count": 17,
   "id": "ee8af448",
   "metadata": {},
   "outputs": [],
   "source": [
    "query= '''WITH CTE1 AS (SELECT  \n",
    "    (CASE \n",
    "        WHEN YearsAtCompany < 2 THEN 'New Hires'\n",
    "        WHEN YearsAtCompany BETWEEN 2 AND 5 THEN '2-5 years'\n",
    "        WHEN YearsAtCompany BETWEEN 6 AND 10 THEN '6-10 years'\n",
    "        WHEN YearsAtCompany BETWEEN 11 AND 20 THEN '11-20 years'\n",
    "        ELSE 'Over 20 years'\n",
    "    END) AS tenure_years,\n",
    "    COUNT(*) AS num\n",
    "FROM \n",
    "    employee\n",
    "WHERE\n",
    "    Attrition=\"Yes\"\n",
    "GROUP BY \n",
    "    Attrition, tenure_years)\n",
    "\n",
    "    \n",
    "    select *,round((num*100.0)/237.0,1) AS percent from CTE1\n",
    "'''"
   ]
  },
  {
   "cell_type": "markdown",
   "id": "8845f807-d8eb-47d1-9d11-5193b33c09db",
   "metadata": {},
   "source": [
    "#### The CTE categorizes employees with Attrition = \"Yes\" into tenure groups based on YearsAtCompany and counts the number of employees in each group (num).\n",
    "#### The final SELECT calculates the percentage of employees in each tenure group who have attrition, dividing the count by 237 (Total Number of rows with Attrition=\"Yes\") and rounding to one decimal place."
   ]
  },
  {
   "cell_type": "code",
   "execution_count": 18,
   "id": "e3beea7f-88d3-4a65-bc78-69d62461b948",
   "metadata": {},
   "outputs": [
    {
     "data": {
      "text/html": [
       "<div>\n",
       "<style scoped>\n",
       "    .dataframe tbody tr th:only-of-type {\n",
       "        vertical-align: middle;\n",
       "    }\n",
       "\n",
       "    .dataframe tbody tr th {\n",
       "        vertical-align: top;\n",
       "    }\n",
       "\n",
       "    .dataframe thead th {\n",
       "        text-align: right;\n",
       "    }\n",
       "</style>\n",
       "<table border=\"1\" class=\"dataframe\">\n",
       "  <thead>\n",
       "    <tr style=\"text-align: right;\">\n",
       "      <th></th>\n",
       "      <th>tenure_years</th>\n",
       "      <th>num</th>\n",
       "      <th>percent</th>\n",
       "    </tr>\n",
       "  </thead>\n",
       "  <tbody>\n",
       "    <tr>\n",
       "      <th>0</th>\n",
       "      <td>11-20 years</td>\n",
       "      <td>12</td>\n",
       "      <td>5.1</td>\n",
       "    </tr>\n",
       "    <tr>\n",
       "      <th>1</th>\n",
       "      <td>2-5 years</td>\n",
       "      <td>87</td>\n",
       "      <td>36.7</td>\n",
       "    </tr>\n",
       "    <tr>\n",
       "      <th>2</th>\n",
       "      <td>6-10 years</td>\n",
       "      <td>55</td>\n",
       "      <td>23.2</td>\n",
       "    </tr>\n",
       "    <tr>\n",
       "      <th>3</th>\n",
       "      <td>New Hires</td>\n",
       "      <td>75</td>\n",
       "      <td>31.6</td>\n",
       "    </tr>\n",
       "    <tr>\n",
       "      <th>4</th>\n",
       "      <td>Over 20 years</td>\n",
       "      <td>8</td>\n",
       "      <td>3.4</td>\n",
       "    </tr>\n",
       "  </tbody>\n",
       "</table>\n",
       "</div>"
      ],
      "text/plain": [
       "    tenure_years  num  percent\n",
       "0    11-20 years   12      5.1\n",
       "1      2-5 years   87     36.7\n",
       "2     6-10 years   55     23.2\n",
       "3      New Hires   75     31.6\n",
       "4  Over 20 years    8      3.4"
      ]
     },
     "execution_count": 18,
     "metadata": {},
     "output_type": "execute_result"
    }
   ],
   "source": [
    "result=pd.read_sql_query(query,conn)\n",
    "result"
   ]
  },
  {
   "cell_type": "markdown",
   "id": "843dbfcd-625d-47a5-b299-243378aa7f72",
   "metadata": {},
   "source": [
    "#### The highest attrition occurs among employees with 2-5 years of experience (36.7%) followed by New Hires with (31.6%), while employees with over 20 years of tenure have the lowest attrition (3.4%)."
   ]
  },
  {
   "cell_type": "markdown",
   "id": "ae528e04",
   "metadata": {},
   "source": [
    "#### Sample Output\n",
    "\n",
    "![image](https://api-v4.skyprepapp.com/public_api/da/857881?view_key=eyJvYmplY3RfdHlwZSI6ImFydGljbGUiLCJvYmplY3RfaWQiOjg1Nzg4MSwiaG1hYyI6IjFhYmY3NGI4MzQ1NzViMWZkNDJlMjcwYTUyOTQ0OWQwZjJjMjhmNWUiLCJleHBpcmVzX2F0Ijo0ODkxMzgxMTk5LCJvdHRfdG9rZW4iOm51bGx9)"
   ]
  },
  {
   "cell_type": "markdown",
   "id": "b35f060a",
   "metadata": {},
   "source": [
    "#### Continue using SQL to explore main reasons for attrition (3 pts), For example:\n",
    "- Why do more people over 50 years old leave the company than people who aged 40-50?\n",
    "- Why do people with higher pay still leave the company?\n",
    "- Which factors drive employees who work at company less than 5 years to leave?"
   ]
  },
  {
   "cell_type": "markdown",
   "id": "a683116f-b0d9-4f85-9606-e85abf6935bf",
   "metadata": {},
   "source": [
    "#### Why do more people over 50 years old leave the company than people who aged 40-50?"
   ]
  },
  {
   "cell_type": "code",
   "execution_count": 19,
   "id": "9017e54d-2b2a-4549-802c-863015de3fdd",
   "metadata": {},
   "outputs": [],
   "source": [
    "query= '''WITH CTE1 AS (SELECT \n",
    "    Attrition, \n",
    "    (CASE \n",
    "        WHEN Age < 30 THEN 'Under 30'\n",
    "        WHEN Age BETWEEN 30 AND 39 THEN '30-40'\n",
    "        WHEN Age BETWEEN 40 AND 49 THEN '40-50'\n",
    "        ELSE 'Over 50'\n",
    "    END) AS Age_Group,\n",
    "    COUNT(*) AS num,\n",
    "    avg(YearsSinceLastPromotion) AS avg_YearsSinceLastPromotion\n",
    "FROM \n",
    "    employee\n",
    "GROUP BY \n",
    "    Attrition, Age_Group),\n",
    "\n",
    "    \n",
    "    CTE2 AS (select Age_Group, sum(num) AS Total FROM CTE1 GROUP BY Age_Group)\n",
    "\n",
    "    \n",
    "    Select c1.Attrition,c1.Age_Group,c1.num,round((c1.num*100.0)/c2.Total,2) AS percent_by_age, c1.avg_YearsSinceLastPromotion from CTE1 AS c1\n",
    "    INNER JOIN\n",
    "    CTE2 AS c2\n",
    "    ON c1.Age_Group=c2.Age_Group\n",
    "    WHERE c1.Attrition=\"Yes\"\n",
    "'''"
   ]
  },
  {
   "cell_type": "markdown",
   "id": "f1814d07-c7dd-476c-87e5-18782ef307ca",
   "metadata": {},
   "source": [
    "#### This query calculates attrition statistics for employees grouped by age categories. It first uses CTE1 to categorize employees into age groups, count attrition cases, and calculate the average years since the last promotion. Then, CTE2 computes the total employees in each age group. Finally, the main query joins the CTEs to calculate the percentage of attrition within each age group and filters for employees who left the company (Attrition = \"Yes\")."
   ]
  },
  {
   "cell_type": "code",
   "execution_count": 20,
   "id": "7b128d4e-fe46-4722-9d2a-dafd3c4b41a1",
   "metadata": {},
   "outputs": [
    {
     "data": {
      "text/html": [
       "<div>\n",
       "<style scoped>\n",
       "    .dataframe tbody tr th:only-of-type {\n",
       "        vertical-align: middle;\n",
       "    }\n",
       "\n",
       "    .dataframe tbody tr th {\n",
       "        vertical-align: top;\n",
       "    }\n",
       "\n",
       "    .dataframe thead th {\n",
       "        text-align: right;\n",
       "    }\n",
       "</style>\n",
       "<table border=\"1\" class=\"dataframe\">\n",
       "  <thead>\n",
       "    <tr style=\"text-align: right;\">\n",
       "      <th></th>\n",
       "      <th>Attrition</th>\n",
       "      <th>Age_Group</th>\n",
       "      <th>num</th>\n",
       "      <th>percent_by_age</th>\n",
       "      <th>avg_YearsSinceLastPromotion</th>\n",
       "    </tr>\n",
       "  </thead>\n",
       "  <tbody>\n",
       "    <tr>\n",
       "      <th>0</th>\n",
       "      <td>Yes</td>\n",
       "      <td>30-40</td>\n",
       "      <td>89</td>\n",
       "      <td>14.31</td>\n",
       "      <td>2.134831</td>\n",
       "    </tr>\n",
       "    <tr>\n",
       "      <th>1</th>\n",
       "      <td>Yes</td>\n",
       "      <td>40-50</td>\n",
       "      <td>34</td>\n",
       "      <td>9.74</td>\n",
       "      <td>2.911765</td>\n",
       "    </tr>\n",
       "    <tr>\n",
       "      <th>2</th>\n",
       "      <td>Yes</td>\n",
       "      <td>Over 50</td>\n",
       "      <td>23</td>\n",
       "      <td>13.29</td>\n",
       "      <td>3.739130</td>\n",
       "    </tr>\n",
       "    <tr>\n",
       "      <th>3</th>\n",
       "      <td>Yes</td>\n",
       "      <td>Under 30</td>\n",
       "      <td>91</td>\n",
       "      <td>27.91</td>\n",
       "      <td>0.945055</td>\n",
       "    </tr>\n",
       "  </tbody>\n",
       "</table>\n",
       "</div>"
      ],
      "text/plain": [
       "  Attrition Age_Group  num  percent_by_age  avg_YearsSinceLastPromotion\n",
       "0       Yes     30-40   89           14.31                     2.134831\n",
       "1       Yes     40-50   34            9.74                     2.911765\n",
       "2       Yes   Over 50   23           13.29                     3.739130\n",
       "3       Yes  Under 30   91           27.91                     0.945055"
      ]
     },
     "execution_count": 20,
     "metadata": {},
     "output_type": "execute_result"
    }
   ],
   "source": [
    "result=pd.read_sql_query(query,conn)\n",
    "result"
   ]
  },
  {
   "cell_type": "markdown",
   "id": "3bcafa09-12ab-4c6d-b197-c7f8830f0d1d",
   "metadata": {},
   "source": [
    "#### Employees over 50 years old leave the company more frequently than those aged 40-50 because they have the highest average years since their last promotion (3.74 years). This suggests potential dissatisfaction due to stagnation in career growth."
   ]
  },
  {
   "cell_type": "markdown",
   "id": "0ced78c7-2ddb-4c85-a8df-401e96fa9e51",
   "metadata": {},
   "source": [
    "#### Why do people with higher pay still leave the company?"
   ]
  },
  {
   "cell_type": "code",
   "execution_count": 42,
   "id": "1da4faa5-86e4-4947-861c-29681872d05c",
   "metadata": {},
   "outputs": [],
   "source": [
    "query='''select Attrition,EnvironmentSatisfaction ,count(*) AS Employee_cnt FROM employee\n",
    "        where MonthlyIncome>9999 and Attrition=\"Yes\"\n",
    "        Group BY attrition, EnvironmentSatisfaction\n",
    "'''"
   ]
  },
  {
   "cell_type": "markdown",
   "id": "8c9795ae-3e6c-4ef3-a08c-328fff350dfe",
   "metadata": {},
   "source": [
    "#### The query counts the number of employees earning more than $9,999 per month who left the company (\"Attrition = Yes\"), grouped by their level of EnvironmentSatisfaction."
   ]
  },
  {
   "cell_type": "code",
   "execution_count": 43,
   "id": "5ffe9be2-1974-4a2b-9752-3de5708f29cf",
   "metadata": {},
   "outputs": [
    {
     "data": {
      "text/html": [
       "<div>\n",
       "<style scoped>\n",
       "    .dataframe tbody tr th:only-of-type {\n",
       "        vertical-align: middle;\n",
       "    }\n",
       "\n",
       "    .dataframe tbody tr th {\n",
       "        vertical-align: top;\n",
       "    }\n",
       "\n",
       "    .dataframe thead th {\n",
       "        text-align: right;\n",
       "    }\n",
       "</style>\n",
       "<table border=\"1\" class=\"dataframe\">\n",
       "  <thead>\n",
       "    <tr style=\"text-align: right;\">\n",
       "      <th></th>\n",
       "      <th>Attrition</th>\n",
       "      <th>EnvironmentSatisfaction</th>\n",
       "      <th>Employee_cnt</th>\n",
       "    </tr>\n",
       "  </thead>\n",
       "  <tbody>\n",
       "    <tr>\n",
       "      <th>0</th>\n",
       "      <td>Yes</td>\n",
       "      <td>1</td>\n",
       "      <td>10</td>\n",
       "    </tr>\n",
       "    <tr>\n",
       "      <th>1</th>\n",
       "      <td>Yes</td>\n",
       "      <td>2</td>\n",
       "      <td>4</td>\n",
       "    </tr>\n",
       "    <tr>\n",
       "      <th>2</th>\n",
       "      <td>Yes</td>\n",
       "      <td>3</td>\n",
       "      <td>5</td>\n",
       "    </tr>\n",
       "    <tr>\n",
       "      <th>3</th>\n",
       "      <td>Yes</td>\n",
       "      <td>4</td>\n",
       "      <td>6</td>\n",
       "    </tr>\n",
       "  </tbody>\n",
       "</table>\n",
       "</div>"
      ],
      "text/plain": [
       "  Attrition  EnvironmentSatisfaction  Employee_cnt\n",
       "0       Yes                        1            10\n",
       "1       Yes                        2             4\n",
       "2       Yes                        3             5\n",
       "3       Yes                        4             6"
      ]
     },
     "execution_count": 43,
     "metadata": {},
     "output_type": "execute_result"
    }
   ],
   "source": [
    "result=pd.read_sql_query(query,conn)\n",
    "result"
   ]
  },
  {
   "cell_type": "markdown",
   "id": "f910b154-badc-418c-a522-d22cebf726cc",
   "metadata": {},
   "source": [
    "#### Employees with low EnvironmentSatisfaction (level 1) account for the highest attrition (10 employees), suggesting that dissatisfaction with the work environment is a significant factor in high-paying employees leaving the company."
   ]
  },
  {
   "cell_type": "code",
   "execution_count": 51,
   "id": "21d4b5ef-5a7c-4b96-ac8d-69cd7106cb80",
   "metadata": {},
   "outputs": [],
   "source": [
    "query='''select Attrition,StockOptionLevel ,count(*) AS Employee_cnt FROM employee\n",
    "        where MonthlyIncome>9999 and Attrition=\"Yes\"\n",
    "        Group BY attrition, StockOptionLevel\n",
    "'''"
   ]
  },
  {
   "cell_type": "markdown",
   "id": "f6ed3a5f-5cf9-410a-aba8-129d3c2ddb18",
   "metadata": {},
   "source": [
    "#### The query counts the number of employees earning more than $9,999 per month who left the company (\"Attrition = Yes\"), grouped by their StockOptionLevel."
   ]
  },
  {
   "cell_type": "code",
   "execution_count": 52,
   "id": "94972020-8ec4-464c-81c5-cc58969c4473",
   "metadata": {},
   "outputs": [
    {
     "data": {
      "text/html": [
       "<div>\n",
       "<style scoped>\n",
       "    .dataframe tbody tr th:only-of-type {\n",
       "        vertical-align: middle;\n",
       "    }\n",
       "\n",
       "    .dataframe tbody tr th {\n",
       "        vertical-align: top;\n",
       "    }\n",
       "\n",
       "    .dataframe thead th {\n",
       "        text-align: right;\n",
       "    }\n",
       "</style>\n",
       "<table border=\"1\" class=\"dataframe\">\n",
       "  <thead>\n",
       "    <tr style=\"text-align: right;\">\n",
       "      <th></th>\n",
       "      <th>Attrition</th>\n",
       "      <th>StockOptionLevel</th>\n",
       "      <th>Employee_cnt</th>\n",
       "    </tr>\n",
       "  </thead>\n",
       "  <tbody>\n",
       "    <tr>\n",
       "      <th>0</th>\n",
       "      <td>Yes</td>\n",
       "      <td>0</td>\n",
       "      <td>14</td>\n",
       "    </tr>\n",
       "    <tr>\n",
       "      <th>1</th>\n",
       "      <td>Yes</td>\n",
       "      <td>1</td>\n",
       "      <td>9</td>\n",
       "    </tr>\n",
       "    <tr>\n",
       "      <th>2</th>\n",
       "      <td>Yes</td>\n",
       "      <td>2</td>\n",
       "      <td>1</td>\n",
       "    </tr>\n",
       "    <tr>\n",
       "      <th>3</th>\n",
       "      <td>Yes</td>\n",
       "      <td>3</td>\n",
       "      <td>1</td>\n",
       "    </tr>\n",
       "  </tbody>\n",
       "</table>\n",
       "</div>"
      ],
      "text/plain": [
       "  Attrition  StockOptionLevel  Employee_cnt\n",
       "0       Yes                 0            14\n",
       "1       Yes                 1             9\n",
       "2       Yes                 2             1\n",
       "3       Yes                 3             1"
      ]
     },
     "execution_count": 52,
     "metadata": {},
     "output_type": "execute_result"
    }
   ],
   "source": [
    "result=pd.read_sql_query(query,conn)\n",
    "result"
   ]
  },
  {
   "cell_type": "markdown",
   "id": "5b8b5b49-ab22-4833-b4cf-033beaa8a860",
   "metadata": {},
   "source": [
    "#### Employees with minimal stock options (StockOptionLevel 0 & 1) have the highest attrition (23 employees), indicating that a lack of stock options may contribute significantly to high-paying employees leaving the company."
   ]
  },
  {
   "cell_type": "markdown",
   "id": "95f16ef6-77b8-4359-90c1-e9b309488afa",
   "metadata": {},
   "source": [
    "#### Which factors drive employees who work at company less than 5 years to leave?"
   ]
  },
  {
   "cell_type": "code",
   "execution_count": 56,
   "id": "9f9dc4a6-f029-40dc-8514-fde3c13d2120",
   "metadata": {},
   "outputs": [
    {
     "data": {
      "text/plain": [
       "array(['Yes', 'No'], dtype=object)"
      ]
     },
     "execution_count": 56,
     "metadata": {},
     "output_type": "execute_result"
    }
   ],
   "source": [
    "df['OverTime'].unique()"
   ]
  },
  {
   "cell_type": "code",
   "execution_count": 75,
   "id": "aa778b70-2141-46d1-942d-c10dc3ef63be",
   "metadata": {},
   "outputs": [
    {
     "data": {
      "text/html": [
       "<div>\n",
       "<style scoped>\n",
       "    .dataframe tbody tr th:only-of-type {\n",
       "        vertical-align: middle;\n",
       "    }\n",
       "\n",
       "    .dataframe tbody tr th {\n",
       "        vertical-align: top;\n",
       "    }\n",
       "\n",
       "    .dataframe thead th {\n",
       "        text-align: right;\n",
       "    }\n",
       "</style>\n",
       "<table border=\"1\" class=\"dataframe\">\n",
       "  <thead>\n",
       "    <tr style=\"text-align: right;\">\n",
       "      <th></th>\n",
       "      <th>tenure_years</th>\n",
       "      <th>num</th>\n",
       "      <th>Low_JobSatisfaction_Count</th>\n",
       "      <th>Low_JobInvolvement_Count</th>\n",
       "      <th>Low_EnvironmentSatisfaction_Count</th>\n",
       "    </tr>\n",
       "  </thead>\n",
       "  <tbody>\n",
       "    <tr>\n",
       "      <th>0</th>\n",
       "      <td>11-20 years</td>\n",
       "      <td>12</td>\n",
       "      <td>5</td>\n",
       "      <td>8</td>\n",
       "      <td>6</td>\n",
       "    </tr>\n",
       "    <tr>\n",
       "      <th>1</th>\n",
       "      <td>6-10 years</td>\n",
       "      <td>55</td>\n",
       "      <td>22</td>\n",
       "      <td>17</td>\n",
       "      <td>25</td>\n",
       "    </tr>\n",
       "    <tr>\n",
       "      <th>2</th>\n",
       "      <td>Less than 5 years</td>\n",
       "      <td>141</td>\n",
       "      <td>66</td>\n",
       "      <td>65</td>\n",
       "      <td>73</td>\n",
       "    </tr>\n",
       "    <tr>\n",
       "      <th>3</th>\n",
       "      <td>Over 20 years</td>\n",
       "      <td>29</td>\n",
       "      <td>19</td>\n",
       "      <td>9</td>\n",
       "      <td>11</td>\n",
       "    </tr>\n",
       "  </tbody>\n",
       "</table>\n",
       "</div>"
      ],
      "text/plain": [
       "        tenure_years  num  Low_JobSatisfaction_Count  \\\n",
       "0        11-20 years   12                          5   \n",
       "1         6-10 years   55                         22   \n",
       "2  Less than 5 years  141                         66   \n",
       "3      Over 20 years   29                         19   \n",
       "\n",
       "   Low_JobInvolvement_Count  Low_EnvironmentSatisfaction_Count  \n",
       "0                         8                                  6  \n",
       "1                        17                                 25  \n",
       "2                        65                                 73  \n",
       "3                         9                                 11  "
      ]
     },
     "execution_count": 75,
     "metadata": {},
     "output_type": "execute_result"
    }
   ],
   "source": [
    "query= '''SELECT  \n",
    "    (CASE \n",
    "        WHEN YearsAtCompany < 5 THEN 'Less than 5 years'\n",
    "        WHEN YearsAtCompany BETWEEN 6 AND 10 THEN '6-10 years'\n",
    "        WHEN YearsAtCompany BETWEEN 11 AND 20 THEN '11-20 years'\n",
    "        ELSE 'Over 20 years'\n",
    "    END) AS tenure_years,\n",
    "    COUNT(*) AS num,\n",
    "    count(CASE WHEN JobSatisfaction<=2 THEN 1 ELSE NULL END) AS Low_JobSatisfaction_Count,\n",
    "    count(CASE WHEN JobInvolvement<=2 THEN 1 ELSE NULL END) AS Low_JobInvolvement_Count,\n",
    "    count(CASE WHEN EnvironmentSatisfaction<=2 THEN 1 ELSE NULL END) AS Low_EnvironmentSatisfaction_Count\n",
    "FROM \n",
    "    employee\n",
    "WHERE\n",
    "    Attrition=\"Yes\"\n",
    "GROUP BY \n",
    "    Attrition, tenure_years\n",
    "'''\n",
    "\n",
    "result=pd.read_sql_query(query,conn)\n",
    "result"
   ]
  },
  {
   "cell_type": "markdown",
   "id": "31903484-0019-4d38-9d88-6032d2b44386",
   "metadata": {},
   "source": [
    "#### For employees with Less than 5 years tenure, the key factors driving attrition seem to be:\n",
    "\n",
    "#### Low Job Satisfaction (66 employees)\n",
    "#### Low Environment Satisfaction (73 employees)\n",
    "#### Low Job Involvement (65 employees)\n",
    "#### These factors have the highest counts, suggesting that dissatisfaction with the job environment, lack of engagement, and overall job dissatisfaction are strong drivers for high turnover in employees with shorter tenures at the company."
   ]
  }
 ],
 "metadata": {
  "kernelspec": {
   "display_name": "Python 3 (ipykernel)",
   "language": "python",
   "name": "python3"
  },
  "language_info": {
   "codemirror_mode": {
    "name": "ipython",
    "version": 3
   },
   "file_extension": ".py",
   "mimetype": "text/x-python",
   "name": "python",
   "nbconvert_exporter": "python",
   "pygments_lexer": "ipython3",
   "version": "3.12.6"
  }
 },
 "nbformat": 4,
 "nbformat_minor": 5
}
